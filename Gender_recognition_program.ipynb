{
  "nbformat": 4,
  "nbformat_minor": 0,
  "metadata": {
    "colab": {
      "name": "Gender_recognition_program.ipynb",
      "provenance": [],
      "include_colab_link": true
    },
    "kernelspec": {
      "name": "python3",
      "display_name": "Python 3"
    }
  },
  "cells": [
    {
      "cell_type": "markdown",
      "metadata": {
        "id": "view-in-github",
        "colab_type": "text"
      },
      "source": [
        "<a href=\"https://colab.research.google.com/github/Fvidal101/Tech-Academy-Test/blob/master/Gender_recognition_program.ipynb\" target=\"_parent\"><img src=\"https://colab.research.google.com/assets/colab-badge.svg\" alt=\"Open In Colab\"/></a>"
      ]
    },
    {
      "cell_type": "code",
      "metadata": {
        "id": "YCPjmCfL6zE7",
        "colab_type": "code",
        "colab": {
          "base_uri": "https://localhost:8080/",
          "height": 68
        },
        "outputId": "75db5281-70a1-4a64-db86-e00ccf4ee7e5"
      },
      "source": [
        "import nltk\n",
        "nltk.download('names')"
      ],
      "execution_count": 2,
      "outputs": [
        {
          "output_type": "stream",
          "text": [
            "[nltk_data] Downloading package names to /root/nltk_data...\n",
            "[nltk_data]   Unzipping corpora/names.zip.\n"
          ],
          "name": "stdout"
        },
        {
          "output_type": "execute_result",
          "data": {
            "text/plain": [
              "True"
            ]
          },
          "metadata": {
            "tags": []
          },
          "execution_count": 2
        }
      ]
    },
    {
      "cell_type": "markdown",
      "metadata": {
        "id": "dg-wejsq7Gp_",
        "colab_type": "text"
      },
      "source": [
        "Male_names Link: https://media.geeksforgeeks.org/wp-content/uploads/male.txt </br>\n",
        "Female_names Link: https://media.geeksforgeeks.org/wp-content/uploads/female.txt"
      ]
    },
    {
      "cell_type": "code",
      "metadata": {
        "id": "ZVmHO1HW5_f2",
        "colab_type": "code",
        "colab": {
          "base_uri": "https://localhost:8080/",
          "height": 51
        },
        "outputId": "7715d1b4-7a10-4ef5-ef34-d231da818168"
      },
      "source": [
        "# importing libraries \n",
        "import random \n",
        "from nltk.corpus import names \n",
        "import nltk \n",
        "\n",
        "def gender_features(word): #function\n",
        "\treturn {'last_letter':word[-1]} \n",
        "\n",
        "gender_features('Francesca')\n",
        "\n",
        "# preparing a list of examples and corresponding class labels. \n",
        "labeled_names = ([(name, 'male') for name in names.words('male.txt')]+\n",
        "\t\t\t[(name, 'female') for name in names.words('female.txt')]) \n",
        "\n",
        "random.shuffle(labeled_names) \n",
        "\n",
        "# we use the feature extractor to process the names data. \n",
        "featuresets = [(gender_features(n), gender) \n",
        "\t\t\tfor (n, gender)in labeled_names] \n",
        "\n",
        "# Divide the resulting list of feature \n",
        "# sets into a training set and a test set. \n",
        "train_set, test_set = featuresets[500:], featuresets[:500] \n",
        "\n",
        "# The training set is used to \n",
        "# train a new \"naive Bayes\" classifier. \n",
        "classifier = nltk.NaiveBayesClassifier.train(train_set) \n",
        "\n",
        "print(classifier.classify(gender_features('Francesca'))) \n",
        "\n",
        "# output should be 'male' \n",
        "print(nltk.classify.accuracy(classifier, train_set)) \n"
      ],
      "execution_count": 10,
      "outputs": [
        {
          "output_type": "stream",
          "text": [
            "female\n",
            "0.7635679742074154\n"
          ],
          "name": "stdout"
        }
      ]
    },
    {
      "cell_type": "code",
      "metadata": {
        "id": "qpIX58uq68ub",
        "colab_type": "code",
        "colab": {
          "base_uri": "https://localhost:8080/",
          "height": 204
        },
        "outputId": "b49d875e-c089-498e-9b29-4d1763aba419"
      },
      "source": [
        "classifier.show_most_informative_features(10) "
      ],
      "execution_count": 12,
      "outputs": [
        {
          "output_type": "stream",
          "text": [
            "Most Informative Features\n",
            "             last_letter = 'a'            female : male   =     33.5 : 1.0\n",
            "             last_letter = 'k'              male : female =     32.6 : 1.0\n",
            "             last_letter = 'f'              male : female =     17.3 : 1.0\n",
            "             last_letter = 'p'              male : female =     11.9 : 1.0\n",
            "             last_letter = 'd'              male : female =     10.3 : 1.0\n",
            "             last_letter = 'v'              male : female =      9.8 : 1.0\n",
            "             last_letter = 'o'              male : female =      8.5 : 1.0\n",
            "             last_letter = 'm'              male : female =      8.2 : 1.0\n",
            "             last_letter = 'r'              male : female =      6.5 : 1.0\n",
            "             last_letter = 'w'              male : female =      5.1 : 1.0\n"
          ],
          "name": "stdout"
        }
      ]
    }
  ]
}