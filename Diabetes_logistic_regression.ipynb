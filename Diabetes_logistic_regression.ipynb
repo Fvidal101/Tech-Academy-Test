{
  "nbformat": 4,
  "nbformat_minor": 0,
  "metadata": {
    "colab": {
      "name": "Diabetes_logistic_regression.ipynb",
      "provenance": [],
      "collapsed_sections": [],
      "include_colab_link": true
    },
    "kernelspec": {
      "name": "python3",
      "display_name": "Python 3"
    }
  },
  "cells": [
    {
      "cell_type": "markdown",
      "metadata": {
        "id": "view-in-github",
        "colab_type": "text"
      },
      "source": [
        "<a href=\"https://colab.research.google.com/github/Fvidal101/Tech-Academy-Test/blob/master/Diabetes_logistic_regression.ipynb\" target=\"_parent\"><img src=\"https://colab.research.google.com/assets/colab-badge.svg\" alt=\"Open In Colab\"/></a>"
      ]
    },
    {
      "cell_type": "code",
      "metadata": {
        "id": "5YE0mPnTjSQe",
        "colab_type": "code",
        "colab": {}
      },
      "source": [
        "import pandas as pd\n",
        "import pylab as pl\n",
        "import numpy as np\n",
        "import scipy.optimize as opt\n",
        "%matplotlib inline \n",
        "import matplotlib.pyplot as plt"
      ],
      "execution_count": null,
      "outputs": []
    },
    {
      "cell_type": "code",
      "metadata": {
        "id": "APoMskFLjmGn",
        "colab_type": "code",
        "colab": {
          "base_uri": "https://localhost:8080/",
          "height": 224
        },
        "outputId": "a7b7215f-38c5-4b17-81b2-70e810c7e280"
      },
      "source": [
        "data = pd.read_csv(\"diabetes.csv\")\n",
        "data.head()"
      ],
      "execution_count": null,
      "outputs": [
        {
          "output_type": "execute_result",
          "data": {
            "text/html": [
              "<div>\n",
              "<style scoped>\n",
              "    .dataframe tbody tr th:only-of-type {\n",
              "        vertical-align: middle;\n",
              "    }\n",
              "\n",
              "    .dataframe tbody tr th {\n",
              "        vertical-align: top;\n",
              "    }\n",
              "\n",
              "    .dataframe thead th {\n",
              "        text-align: right;\n",
              "    }\n",
              "</style>\n",
              "<table border=\"1\" class=\"dataframe\">\n",
              "  <thead>\n",
              "    <tr style=\"text-align: right;\">\n",
              "      <th></th>\n",
              "      <th>Pregnancies</th>\n",
              "      <th>Glucose</th>\n",
              "      <th>BloodPressure</th>\n",
              "      <th>SkinThickness</th>\n",
              "      <th>Insulin</th>\n",
              "      <th>BMI</th>\n",
              "      <th>DiabetesPedigreeFunction</th>\n",
              "      <th>Age</th>\n",
              "      <th>Outcome</th>\n",
              "    </tr>\n",
              "  </thead>\n",
              "  <tbody>\n",
              "    <tr>\n",
              "      <th>0</th>\n",
              "      <td>6</td>\n",
              "      <td>148</td>\n",
              "      <td>72</td>\n",
              "      <td>35</td>\n",
              "      <td>0</td>\n",
              "      <td>33.6</td>\n",
              "      <td>0.627</td>\n",
              "      <td>50</td>\n",
              "      <td>1</td>\n",
              "    </tr>\n",
              "    <tr>\n",
              "      <th>1</th>\n",
              "      <td>1</td>\n",
              "      <td>85</td>\n",
              "      <td>66</td>\n",
              "      <td>29</td>\n",
              "      <td>0</td>\n",
              "      <td>26.6</td>\n",
              "      <td>0.351</td>\n",
              "      <td>31</td>\n",
              "      <td>0</td>\n",
              "    </tr>\n",
              "    <tr>\n",
              "      <th>2</th>\n",
              "      <td>8</td>\n",
              "      <td>183</td>\n",
              "      <td>64</td>\n",
              "      <td>0</td>\n",
              "      <td>0</td>\n",
              "      <td>23.3</td>\n",
              "      <td>0.672</td>\n",
              "      <td>32</td>\n",
              "      <td>1</td>\n",
              "    </tr>\n",
              "    <tr>\n",
              "      <th>3</th>\n",
              "      <td>1</td>\n",
              "      <td>89</td>\n",
              "      <td>66</td>\n",
              "      <td>23</td>\n",
              "      <td>94</td>\n",
              "      <td>28.1</td>\n",
              "      <td>0.167</td>\n",
              "      <td>21</td>\n",
              "      <td>0</td>\n",
              "    </tr>\n",
              "    <tr>\n",
              "      <th>4</th>\n",
              "      <td>0</td>\n",
              "      <td>137</td>\n",
              "      <td>40</td>\n",
              "      <td>35</td>\n",
              "      <td>168</td>\n",
              "      <td>43.1</td>\n",
              "      <td>2.288</td>\n",
              "      <td>33</td>\n",
              "      <td>1</td>\n",
              "    </tr>\n",
              "  </tbody>\n",
              "</table>\n",
              "</div>"
            ],
            "text/plain": [
              "   Pregnancies  Glucose  BloodPressure  ...  DiabetesPedigreeFunction  Age  Outcome\n",
              "0            6      148             72  ...                     0.627   50        1\n",
              "1            1       85             66  ...                     0.351   31        0\n",
              "2            8      183             64  ...                     0.672   32        1\n",
              "3            1       89             66  ...                     0.167   21        0\n",
              "4            0      137             40  ...                     2.288   33        1\n",
              "\n",
              "[5 rows x 9 columns]"
            ]
          },
          "metadata": {
            "tags": []
          },
          "execution_count": 59
        }
      ]
    },
    {
      "cell_type": "code",
      "metadata": {
        "id": "qWyf0LOZju4P",
        "colab_type": "code",
        "colab": {
          "base_uri": "https://localhost:8080/",
          "height": 187
        },
        "outputId": "b6fa73da-cd36-4ffe-cdab-83a31ddb8951"
      },
      "source": [
        "data.isnull().sum()\n",
        "# checking for missing values"
      ],
      "execution_count": null,
      "outputs": [
        {
          "output_type": "execute_result",
          "data": {
            "text/plain": [
              "Pregnancies                 0\n",
              "Glucose                     0\n",
              "BloodPressure               0\n",
              "SkinThickness               0\n",
              "Insulin                     0\n",
              "BMI                         0\n",
              "DiabetesPedigreeFunction    0\n",
              "Age                         0\n",
              "Outcome                     0\n",
              "dtype: int64"
            ]
          },
          "metadata": {
            "tags": []
          },
          "execution_count": 60
        }
      ]
    },
    {
      "cell_type": "code",
      "metadata": {
        "id": "lqzG0K1lj1eO",
        "colab_type": "code",
        "colab": {
          "base_uri": "https://localhost:8080/",
          "height": 317
        },
        "outputId": "2a1eaa91-3b7b-4b6f-a10f-c1e4af2196cd"
      },
      "source": [
        "data.describe()"
      ],
      "execution_count": null,
      "outputs": [
        {
          "output_type": "execute_result",
          "data": {
            "text/html": [
              "<div>\n",
              "<style scoped>\n",
              "    .dataframe tbody tr th:only-of-type {\n",
              "        vertical-align: middle;\n",
              "    }\n",
              "\n",
              "    .dataframe tbody tr th {\n",
              "        vertical-align: top;\n",
              "    }\n",
              "\n",
              "    .dataframe thead th {\n",
              "        text-align: right;\n",
              "    }\n",
              "</style>\n",
              "<table border=\"1\" class=\"dataframe\">\n",
              "  <thead>\n",
              "    <tr style=\"text-align: right;\">\n",
              "      <th></th>\n",
              "      <th>Pregnancies</th>\n",
              "      <th>Glucose</th>\n",
              "      <th>BloodPressure</th>\n",
              "      <th>SkinThickness</th>\n",
              "      <th>Insulin</th>\n",
              "      <th>BMI</th>\n",
              "      <th>DiabetesPedigreeFunction</th>\n",
              "      <th>Age</th>\n",
              "      <th>Outcome</th>\n",
              "    </tr>\n",
              "  </thead>\n",
              "  <tbody>\n",
              "    <tr>\n",
              "      <th>count</th>\n",
              "      <td>768.000000</td>\n",
              "      <td>768.000000</td>\n",
              "      <td>768.000000</td>\n",
              "      <td>768.000000</td>\n",
              "      <td>768.000000</td>\n",
              "      <td>768.000000</td>\n",
              "      <td>768.000000</td>\n",
              "      <td>768.000000</td>\n",
              "      <td>768.000000</td>\n",
              "    </tr>\n",
              "    <tr>\n",
              "      <th>mean</th>\n",
              "      <td>3.845052</td>\n",
              "      <td>120.894531</td>\n",
              "      <td>69.105469</td>\n",
              "      <td>20.536458</td>\n",
              "      <td>79.799479</td>\n",
              "      <td>31.992578</td>\n",
              "      <td>0.471876</td>\n",
              "      <td>33.240885</td>\n",
              "      <td>0.348958</td>\n",
              "    </tr>\n",
              "    <tr>\n",
              "      <th>std</th>\n",
              "      <td>3.369578</td>\n",
              "      <td>31.972618</td>\n",
              "      <td>19.355807</td>\n",
              "      <td>15.952218</td>\n",
              "      <td>115.244002</td>\n",
              "      <td>7.884160</td>\n",
              "      <td>0.331329</td>\n",
              "      <td>11.760232</td>\n",
              "      <td>0.476951</td>\n",
              "    </tr>\n",
              "    <tr>\n",
              "      <th>min</th>\n",
              "      <td>0.000000</td>\n",
              "      <td>0.000000</td>\n",
              "      <td>0.000000</td>\n",
              "      <td>0.000000</td>\n",
              "      <td>0.000000</td>\n",
              "      <td>0.000000</td>\n",
              "      <td>0.078000</td>\n",
              "      <td>21.000000</td>\n",
              "      <td>0.000000</td>\n",
              "    </tr>\n",
              "    <tr>\n",
              "      <th>25%</th>\n",
              "      <td>1.000000</td>\n",
              "      <td>99.000000</td>\n",
              "      <td>62.000000</td>\n",
              "      <td>0.000000</td>\n",
              "      <td>0.000000</td>\n",
              "      <td>27.300000</td>\n",
              "      <td>0.243750</td>\n",
              "      <td>24.000000</td>\n",
              "      <td>0.000000</td>\n",
              "    </tr>\n",
              "    <tr>\n",
              "      <th>50%</th>\n",
              "      <td>3.000000</td>\n",
              "      <td>117.000000</td>\n",
              "      <td>72.000000</td>\n",
              "      <td>23.000000</td>\n",
              "      <td>30.500000</td>\n",
              "      <td>32.000000</td>\n",
              "      <td>0.372500</td>\n",
              "      <td>29.000000</td>\n",
              "      <td>0.000000</td>\n",
              "    </tr>\n",
              "    <tr>\n",
              "      <th>75%</th>\n",
              "      <td>6.000000</td>\n",
              "      <td>140.250000</td>\n",
              "      <td>80.000000</td>\n",
              "      <td>32.000000</td>\n",
              "      <td>127.250000</td>\n",
              "      <td>36.600000</td>\n",
              "      <td>0.626250</td>\n",
              "      <td>41.000000</td>\n",
              "      <td>1.000000</td>\n",
              "    </tr>\n",
              "    <tr>\n",
              "      <th>max</th>\n",
              "      <td>17.000000</td>\n",
              "      <td>199.000000</td>\n",
              "      <td>122.000000</td>\n",
              "      <td>99.000000</td>\n",
              "      <td>846.000000</td>\n",
              "      <td>67.100000</td>\n",
              "      <td>2.420000</td>\n",
              "      <td>81.000000</td>\n",
              "      <td>1.000000</td>\n",
              "    </tr>\n",
              "  </tbody>\n",
              "</table>\n",
              "</div>"
            ],
            "text/plain": [
              "       Pregnancies     Glucose  ...         Age     Outcome\n",
              "count   768.000000  768.000000  ...  768.000000  768.000000\n",
              "mean      3.845052  120.894531  ...   33.240885    0.348958\n",
              "std       3.369578   31.972618  ...   11.760232    0.476951\n",
              "min       0.000000    0.000000  ...   21.000000    0.000000\n",
              "25%       1.000000   99.000000  ...   24.000000    0.000000\n",
              "50%       3.000000  117.000000  ...   29.000000    0.000000\n",
              "75%       6.000000  140.250000  ...   41.000000    1.000000\n",
              "max      17.000000  199.000000  ...   81.000000    1.000000\n",
              "\n",
              "[8 rows x 9 columns]"
            ]
          },
          "metadata": {
            "tags": []
          },
          "execution_count": 61
        }
      ]
    },
    {
      "cell_type": "code",
      "metadata": {
        "id": "9QG7z7nWj2LV",
        "colab_type": "code",
        "colab": {
          "base_uri": "https://localhost:8080/",
          "height": 187
        },
        "outputId": "14df1221-d8a5-4dfd-c371-f8cfb94a07c7"
      },
      "source": [
        "data.dtypes # gives the information about the data type (data representation)"
      ],
      "execution_count": null,
      "outputs": [
        {
          "output_type": "execute_result",
          "data": {
            "text/plain": [
              "Pregnancies                   int64\n",
              "Glucose                       int64\n",
              "BloodPressure                 int64\n",
              "SkinThickness                 int64\n",
              "Insulin                       int64\n",
              "BMI                         float64\n",
              "DiabetesPedigreeFunction    float64\n",
              "Age                           int64\n",
              "Outcome                       int64\n",
              "dtype: object"
            ]
          },
          "metadata": {
            "tags": []
          },
          "execution_count": 62
        }
      ]
    },
    {
      "cell_type": "code",
      "metadata": {
        "id": "o5Tzcgvij5hV",
        "colab_type": "code",
        "colab": {
          "base_uri": "https://localhost:8080/",
          "height": 224
        },
        "outputId": "8b92b7ae-384f-4171-b267-73cd6432b6f3"
      },
      "source": [
        "# picking the variables from the dataset \n",
        "data = data[[ 'Pregnancies', 'Glucose', 'BloodPressure', 'SkinThickness', 'Insulin','BMI', 'DiabetesPedigreeFunction', 'Age', 'Outcome']] # these are the variables, which will are the independednt variables\n",
        "\n",
        "# chagning of datatype, i.e., from float to int\n",
        "data['Outcome'] = data['Outcome'].astype('int')\n",
        "data.head()"
      ],
      "execution_count": null,
      "outputs": [
        {
          "output_type": "execute_result",
          "data": {
            "text/html": [
              "<div>\n",
              "<style scoped>\n",
              "    .dataframe tbody tr th:only-of-type {\n",
              "        vertical-align: middle;\n",
              "    }\n",
              "\n",
              "    .dataframe tbody tr th {\n",
              "        vertical-align: top;\n",
              "    }\n",
              "\n",
              "    .dataframe thead th {\n",
              "        text-align: right;\n",
              "    }\n",
              "</style>\n",
              "<table border=\"1\" class=\"dataframe\">\n",
              "  <thead>\n",
              "    <tr style=\"text-align: right;\">\n",
              "      <th></th>\n",
              "      <th>Pregnancies</th>\n",
              "      <th>Glucose</th>\n",
              "      <th>BloodPressure</th>\n",
              "      <th>SkinThickness</th>\n",
              "      <th>Insulin</th>\n",
              "      <th>BMI</th>\n",
              "      <th>DiabetesPedigreeFunction</th>\n",
              "      <th>Age</th>\n",
              "      <th>Outcome</th>\n",
              "    </tr>\n",
              "  </thead>\n",
              "  <tbody>\n",
              "    <tr>\n",
              "      <th>0</th>\n",
              "      <td>6</td>\n",
              "      <td>148</td>\n",
              "      <td>72</td>\n",
              "      <td>35</td>\n",
              "      <td>0</td>\n",
              "      <td>33.6</td>\n",
              "      <td>0.627</td>\n",
              "      <td>50</td>\n",
              "      <td>1</td>\n",
              "    </tr>\n",
              "    <tr>\n",
              "      <th>1</th>\n",
              "      <td>1</td>\n",
              "      <td>85</td>\n",
              "      <td>66</td>\n",
              "      <td>29</td>\n",
              "      <td>0</td>\n",
              "      <td>26.6</td>\n",
              "      <td>0.351</td>\n",
              "      <td>31</td>\n",
              "      <td>0</td>\n",
              "    </tr>\n",
              "    <tr>\n",
              "      <th>2</th>\n",
              "      <td>8</td>\n",
              "      <td>183</td>\n",
              "      <td>64</td>\n",
              "      <td>0</td>\n",
              "      <td>0</td>\n",
              "      <td>23.3</td>\n",
              "      <td>0.672</td>\n",
              "      <td>32</td>\n",
              "      <td>1</td>\n",
              "    </tr>\n",
              "    <tr>\n",
              "      <th>3</th>\n",
              "      <td>1</td>\n",
              "      <td>89</td>\n",
              "      <td>66</td>\n",
              "      <td>23</td>\n",
              "      <td>94</td>\n",
              "      <td>28.1</td>\n",
              "      <td>0.167</td>\n",
              "      <td>21</td>\n",
              "      <td>0</td>\n",
              "    </tr>\n",
              "    <tr>\n",
              "      <th>4</th>\n",
              "      <td>0</td>\n",
              "      <td>137</td>\n",
              "      <td>40</td>\n",
              "      <td>35</td>\n",
              "      <td>168</td>\n",
              "      <td>43.1</td>\n",
              "      <td>2.288</td>\n",
              "      <td>33</td>\n",
              "      <td>1</td>\n",
              "    </tr>\n",
              "  </tbody>\n",
              "</table>\n",
              "</div>"
            ],
            "text/plain": [
              "   Pregnancies  Glucose  BloodPressure  ...  DiabetesPedigreeFunction  Age  Outcome\n",
              "0            6      148             72  ...                     0.627   50        1\n",
              "1            1       85             66  ...                     0.351   31        0\n",
              "2            8      183             64  ...                     0.672   32        1\n",
              "3            1       89             66  ...                     0.167   21        0\n",
              "4            0      137             40  ...                     2.288   33        1\n",
              "\n",
              "[5 rows x 9 columns]"
            ]
          },
          "metadata": {
            "tags": []
          },
          "execution_count": 63
        }
      ]
    },
    {
      "cell_type": "code",
      "metadata": {
        "id": "RtIb9TKBkmM_",
        "colab_type": "code",
        "colab": {
          "base_uri": "https://localhost:8080/",
          "height": 34
        },
        "outputId": "78f53484-9506-4416-c4fd-67e8cac6dd96"
      },
      "source": [
        "data.shape # information about the quantity of rows & columns"
      ],
      "execution_count": null,
      "outputs": [
        {
          "output_type": "execute_result",
          "data": {
            "text/plain": [
              "(768, 9)"
            ]
          },
          "metadata": {
            "tags": []
          },
          "execution_count": 64
        }
      ]
    },
    {
      "cell_type": "code",
      "metadata": {
        "id": "4dykf7bpkn5k",
        "colab_type": "code",
        "colab": {
          "base_uri": "https://localhost:8080/",
          "height": 119
        },
        "outputId": "69ee5666-c25c-4cdc-d0b3-67a9022775b7"
      },
      "source": [
        "\n",
        "x = np.asarray(data[['Pregnancies',\t'Glucose', 'BloodPressure',\t'SkinThickness',\t'Insulin',\t'BMI']]) # independent variable/features\n",
        "y = np.asarray(data['Outcome']) # dependent variable (label)\n",
        "\n",
        "# printing the values of X and Y\n",
        "print(x [0:5])\n",
        "\n",
        "print(y [0:5])"
      ],
      "execution_count": null,
      "outputs": [
        {
          "output_type": "stream",
          "text": [
            "[[  6.  148.   72.   35.    0.   33.6]\n",
            " [  1.   85.   66.   29.    0.   26.6]\n",
            " [  8.  183.   64.    0.    0.   23.3]\n",
            " [  1.   89.   66.   23.   94.   28.1]\n",
            " [  0.  137.   40.   35.  168.   43.1]]\n",
            "[1 0 1 0 1]\n"
          ],
          "name": "stdout"
        }
      ]
    },
    {
      "cell_type": "code",
      "metadata": {
        "id": "AB4frIUpkv7v",
        "colab_type": "code",
        "colab": {
          "base_uri": "https://localhost:8080/",
          "height": 51
        },
        "outputId": "a98876bf-a98b-44a9-e932-2ce187d6d153"
      },
      "source": [
        "# splitting the dataset\n",
        "from sklearn.model_selection import train_test_split\n",
        "\n",
        "x_train, x_test, y_train, y_test = train_test_split( x, y, test_size=0.2, random_state=4)\n",
        "print ('Train set:', x_train.shape,  y_train.shape)\n",
        "print ('Test set:', x_test.shape,  y_test.shape)"
      ],
      "execution_count": null,
      "outputs": [
        {
          "output_type": "stream",
          "text": [
            "Train set: (614, 6) (614,)\n",
            "Test set: (154, 6) (154,)\n"
          ],
          "name": "stdout"
        }
      ]
    },
    {
      "cell_type": "code",
      "metadata": {
        "id": "jkBdoRBwkxy3",
        "colab_type": "code",
        "colab": {
          "base_uri": "https://localhost:8080/",
          "height": 102
        },
        "outputId": "57335cf3-a5af-48a7-83cb-4fbb9580f7fd"
      },
      "source": [
        " # developing ML model: Training\n",
        "from sklearn.linear_model import LogisticRegression\n",
        "from sklearn.metrics import confusion_matrix\n",
        "\n",
        "model = LogisticRegression(C=0.01, solver='liblinear').fit(x_train,y_train)\n",
        "model\n"
      ],
      "execution_count": null,
      "outputs": [
        {
          "output_type": "execute_result",
          "data": {
            "text/plain": [
              "LogisticRegression(C=0.01, class_weight=None, dual=False, fit_intercept=True,\n",
              "                   intercept_scaling=1, l1_ratio=None, max_iter=100,\n",
              "                   multi_class='auto', n_jobs=None, penalty='l2',\n",
              "                   random_state=None, solver='liblinear', tol=0.0001, verbose=0,\n",
              "                   warm_start=False)"
            ]
          },
          "metadata": {
            "tags": []
          },
          "execution_count": 67
        }
      ]
    },
    {
      "cell_type": "code",
      "metadata": {
        "id": "xrsBW_Tik3xz",
        "colab_type": "code",
        "colab": {
          "base_uri": "https://localhost:8080/",
          "height": 136
        },
        "outputId": "443a2b2b-8c5d-473b-e839-3ac134504ae9"
      },
      "source": [
        "Y = model.predict(x_test)\n",
        "Y"
      ],
      "execution_count": null,
      "outputs": [
        {
          "output_type": "execute_result",
          "data": {
            "text/plain": [
              "array([0, 0, 0, 0, 0, 0, 0, 1, 1, 0, 0, 0, 0, 0, 0, 0, 1, 0, 0, 0, 0, 1,\n",
              "       0, 0, 0, 0, 0, 1, 0, 0, 1, 0, 0, 0, 0, 1, 1, 0, 0, 1, 1, 0, 0, 1,\n",
              "       0, 1, 0, 0, 0, 0, 0, 0, 0, 0, 0, 0, 1, 0, 0, 0, 0, 0, 0, 0, 0, 1,\n",
              "       0, 1, 0, 0, 0, 0, 0, 0, 0, 0, 0, 0, 0, 1, 1, 0, 0, 1, 0, 0, 0, 1,\n",
              "       0, 0, 0, 0, 0, 0, 0, 0, 0, 0, 0, 0, 0, 0, 0, 0, 1, 0, 0, 0, 0, 0,\n",
              "       0, 1, 1, 0, 0, 0, 0, 0, 0, 1, 0, 0, 0, 0, 0, 0, 1, 0, 0, 0, 0, 1,\n",
              "       0, 0, 0, 0, 0, 0, 0, 1, 0, 0, 0, 0, 0, 1, 0, 0, 0, 1, 0, 0, 0, 0])"
            ]
          },
          "metadata": {
            "tags": []
          },
          "execution_count": 68
        }
      ]
    },
    {
      "cell_type": "code",
      "metadata": {
        "id": "O4EmLy1uk4OR",
        "colab_type": "code",
        "colab": {
          "base_uri": "https://localhost:8080/",
          "height": 1000
        },
        "outputId": "f43d8045-35b6-4be3-d508-c0ecceed9695"
      },
      "source": [
        "# predict probability\n",
        "\n",
        "y_prob = model.predict_proba(x_test)\n",
        "y_prob\n",
        "\n",
        "#array[[a,b]] : 'a' shows class 0 and 'b' shows class 1"
      ],
      "execution_count": null,
      "outputs": [
        {
          "output_type": "execute_result",
          "data": {
            "text/plain": [
              "array([[0.67050029, 0.32949971],\n",
              "       [0.7023805 , 0.2976195 ],\n",
              "       [0.76766045, 0.23233955],\n",
              "       [0.760163  , 0.239837  ],\n",
              "       [0.76927935, 0.23072065],\n",
              "       [0.52853159, 0.47146841],\n",
              "       [0.53742027, 0.46257973],\n",
              "       [0.34178978, 0.65821022],\n",
              "       [0.25333137, 0.74666863],\n",
              "       [0.57248446, 0.42751554],\n",
              "       [0.83250978, 0.16749022],\n",
              "       [0.7955042 , 0.2044958 ],\n",
              "       [0.84979862, 0.15020138],\n",
              "       [0.8132457 , 0.1867543 ],\n",
              "       [0.6972638 , 0.3027362 ],\n",
              "       [0.68940468, 0.31059532],\n",
              "       [0.47038131, 0.52961869],\n",
              "       [0.59889883, 0.40110117],\n",
              "       [0.80855859, 0.19144141],\n",
              "       [0.81981154, 0.18018846],\n",
              "       [0.76486101, 0.23513899],\n",
              "       [0.41876744, 0.58123256],\n",
              "       [0.60481192, 0.39518808],\n",
              "       [0.6012645 , 0.3987355 ],\n",
              "       [0.53396392, 0.46603608],\n",
              "       [0.79977289, 0.20022711],\n",
              "       [0.68703691, 0.31296309],\n",
              "       [0.18021359, 0.81978641],\n",
              "       [0.83320881, 0.16679119],\n",
              "       [0.64056742, 0.35943258],\n",
              "       [0.38566239, 0.61433761],\n",
              "       [0.79971341, 0.20028659],\n",
              "       [0.53794117, 0.46205883],\n",
              "       [0.78609554, 0.21390446],\n",
              "       [0.55411625, 0.44588375],\n",
              "       [0.489448  , 0.510552  ],\n",
              "       [0.20449962, 0.79550038],\n",
              "       [0.7078444 , 0.2921556 ],\n",
              "       [0.51578522, 0.48421478],\n",
              "       [0.19802328, 0.80197672],\n",
              "       [0.46573158, 0.53426842],\n",
              "       [0.64473366, 0.35526634],\n",
              "       [0.73040241, 0.26959759],\n",
              "       [0.46188525, 0.53811475],\n",
              "       [0.68530479, 0.31469521],\n",
              "       [0.19087834, 0.80912166],\n",
              "       [0.63118351, 0.36881649],\n",
              "       [0.62545626, 0.37454374],\n",
              "       [0.67573247, 0.32426753],\n",
              "       [0.5760903 , 0.4239097 ],\n",
              "       [0.53270486, 0.46729514],\n",
              "       [0.55558197, 0.44441803],\n",
              "       [0.63573496, 0.36426504],\n",
              "       [0.64732478, 0.35267522],\n",
              "       [0.75965756, 0.24034244],\n",
              "       [0.77837205, 0.22162795],\n",
              "       [0.39245569, 0.60754431],\n",
              "       [0.94750185, 0.05249815],\n",
              "       [0.76060321, 0.23939679],\n",
              "       [0.62188366, 0.37811634],\n",
              "       [0.64674538, 0.35325462],\n",
              "       [0.54409073, 0.45590927],\n",
              "       [0.62048688, 0.37951312],\n",
              "       [0.73114492, 0.26885508],\n",
              "       [0.53687749, 0.46312251],\n",
              "       [0.42194859, 0.57805141],\n",
              "       [0.74171054, 0.25828946],\n",
              "       [0.34150324, 0.65849676],\n",
              "       [0.61135124, 0.38864876],\n",
              "       [0.79342002, 0.20657998],\n",
              "       [0.74666581, 0.25333419],\n",
              "       [0.63679358, 0.36320642],\n",
              "       [0.51285303, 0.48714697],\n",
              "       [0.70339095, 0.29660905],\n",
              "       [0.84322209, 0.15677791],\n",
              "       [0.53563006, 0.46436994],\n",
              "       [0.59582533, 0.40417467],\n",
              "       [0.7987107 , 0.2012893 ],\n",
              "       [0.70482597, 0.29517403],\n",
              "       [0.48612261, 0.51387739],\n",
              "       [0.45318831, 0.54681169],\n",
              "       [0.50677455, 0.49322545],\n",
              "       [0.62609866, 0.37390134],\n",
              "       [0.44498134, 0.55501866],\n",
              "       [0.62962073, 0.37037927],\n",
              "       [0.70507769, 0.29492231],\n",
              "       [0.77670576, 0.22329424],\n",
              "       [0.43453734, 0.56546266],\n",
              "       [0.78372466, 0.21627534],\n",
              "       [0.58474411, 0.41525589],\n",
              "       [0.60710742, 0.39289258],\n",
              "       [0.76004678, 0.23995322],\n",
              "       [0.75317708, 0.24682292],\n",
              "       [0.70666141, 0.29333859],\n",
              "       [0.65593946, 0.34406054],\n",
              "       [0.80512309, 0.19487691],\n",
              "       [0.63391332, 0.36608668],\n",
              "       [0.7938105 , 0.2061895 ],\n",
              "       [0.53354224, 0.46645776],\n",
              "       [0.65873994, 0.34126006],\n",
              "       [0.59759813, 0.40240187],\n",
              "       [0.55250045, 0.44749955],\n",
              "       [0.71811202, 0.28188798],\n",
              "       [0.71953867, 0.28046133],\n",
              "       [0.46240515, 0.53759485],\n",
              "       [0.64110736, 0.35889264],\n",
              "       [0.74144974, 0.25855026],\n",
              "       [0.75183084, 0.24816916],\n",
              "       [0.59832295, 0.40167705],\n",
              "       [0.77082859, 0.22917141],\n",
              "       [0.63063056, 0.36936944],\n",
              "       [0.46017654, 0.53982346],\n",
              "       [0.41981498, 0.58018502],\n",
              "       [0.65124488, 0.34875512],\n",
              "       [0.87000558, 0.12999442],\n",
              "       [0.86976058, 0.13023942],\n",
              "       [0.85260622, 0.14739378],\n",
              "       [0.51179222, 0.48820778],\n",
              "       [0.69076149, 0.30923851],\n",
              "       [0.06285025, 0.93714975],\n",
              "       [0.70366983, 0.29633017],\n",
              "       [0.69300001, 0.30699999],\n",
              "       [0.71946535, 0.28053465],\n",
              "       [0.61945541, 0.38054459],\n",
              "       [0.82988818, 0.17011182],\n",
              "       [0.73572909, 0.26427091],\n",
              "       [0.49839391, 0.50160609],\n",
              "       [0.66663329, 0.33336671],\n",
              "       [0.69767978, 0.30232022],\n",
              "       [0.60274589, 0.39725411],\n",
              "       [0.69924331, 0.30075669],\n",
              "       [0.27034124, 0.72965876],\n",
              "       [0.68387444, 0.31612556],\n",
              "       [0.82846072, 0.17153928],\n",
              "       [0.62012745, 0.37987255],\n",
              "       [0.73430392, 0.26569608],\n",
              "       [0.74910329, 0.25089671],\n",
              "       [0.78312955, 0.21687045],\n",
              "       [0.55315799, 0.44684201],\n",
              "       [0.2234369 , 0.7765631 ],\n",
              "       [0.73447981, 0.26552019],\n",
              "       [0.68033786, 0.31966214],\n",
              "       [0.55754397, 0.44245603],\n",
              "       [0.70895046, 0.29104954],\n",
              "       [0.60146623, 0.39853377],\n",
              "       [0.49238578, 0.50761422],\n",
              "       [0.55530397, 0.44469603],\n",
              "       [0.68663306, 0.31336694],\n",
              "       [0.67547087, 0.32452913],\n",
              "       [0.49664932, 0.50335068],\n",
              "       [0.60369969, 0.39630031],\n",
              "       [0.6221454 , 0.3778546 ],\n",
              "       [0.52897782, 0.47102218],\n",
              "       [0.65965007, 0.34034993]])"
            ]
          },
          "metadata": {
            "tags": []
          },
          "execution_count": 69
        }
      ]
    },
    {
      "cell_type": "code",
      "metadata": {
        "id": "4YBsQAPMk79K",
        "colab_type": "code",
        "colab": {
          "base_uri": "https://localhost:8080/",
          "height": 396
        },
        "outputId": "f1ff4cac-2ac5-42a3-a84f-db90d58fad06"
      },
      "source": [
        "#Plotting confusion matrix\n",
        "#Code reference: IBM ML0101EN\n",
        "\n",
        "from sklearn.metrics import classification_report, confusion_matrix\n",
        "import itertools\n",
        "def plot_confusion_matrix(cm, classes,\n",
        "                          normalize=False,\n",
        "                          title='Confusion matrix',\n",
        "                          cmap=plt.cm.Blues):\n",
        "    \"\"\"\n",
        "    This function prints and plots the confusion matrix.\n",
        "    Normalization can be applied by setting `normalize=True`.\n",
        "    \"\"\"\n",
        "    if normalize:\n",
        "        cm = cm.astype('float') / cm.sum(axis=1)[:, np.newaxis]\n",
        "        print(\"Normalized confusion matrix\")\n",
        "    else:\n",
        "        print('Confusion matrix, without normalization')\n",
        "\n",
        "    print(cm)\n",
        "\n",
        "    plt.imshow(cm, interpolation='nearest', cmap=cmap)\n",
        "    plt.title(title)\n",
        "    plt.colorbar()\n",
        "    tick_marks = np.arange(len(classes))\n",
        "    plt.xticks(tick_marks, classes, rotation=45)\n",
        "    plt.yticks(tick_marks, classes)\n",
        "\n",
        "    fmt = '.2f' if normalize else 'd'\n",
        "    thresh = cm.max() / 2.\n",
        "    for i, j in itertools.product(range(cm.shape[0]), range(cm.shape[1])):\n",
        "        plt.text(j, i, format(cm[i, j], fmt),\n",
        "                 horizontalalignment=\"center\",\n",
        "                 color=\"white\" if cm[i, j] > thresh else \"black\")\n",
        "\n",
        "    plt.tight_layout()\n",
        "    plt.ylabel('True label')\n",
        "    plt.xlabel('Predicted label')\n",
        "    \n",
        "print(confusion_matrix(y_test, Y, labels=[1,0]))\n",
        "# Compute confusion matrix\n",
        "cnf_matrix = confusion_matrix(y_test, Y, labels=[1,0])\n",
        "np.set_printoptions(precision=2)\n",
        "\n",
        "\n",
        "# Plot non-normalized confusion matrix\n",
        "plt.figure()\n",
        "plot_confusion_matrix(cnf_matrix, classes=['Outcome=1','Outcome=0'],normalize= False,  title='Confusion matrix')"
      ],
      "execution_count": null,
      "outputs": [
        {
          "output_type": "stream",
          "text": [
            "[[16 36]\n",
            " [12 90]]\n",
            "Confusion matrix, without normalization\n",
            "[[16 36]\n",
            " [12 90]]\n"
          ],
          "name": "stdout"
        },
        {
          "output_type": "display_data",
          "data": {
            "image/png": "[encoded data removed]",
            "text/plain": [
              "<Figure size 432x288 with 2 Axes>"
            ]
          },
          "metadata": {
            "tags": [],
            "needs_background": "light"
          }
        }
      ]
    },
    {
      "cell_type": "code",
      "metadata": {
        "id": "318eiiDwlO6j",
        "colab_type": "code",
        "colab": {}
      },
      "source": [
        "\n",
        "from sklearn.metrics import plot_confusion_matrix\n",
        "plot_confusion_matrix(model, x_test, y_test)  # doctest: +SKIP\n",
        "plt.show()  # doctest: +SKIP"
      ],
      "execution_count": null,
      "outputs": []
    },
    {
      "cell_type": "code",
      "metadata": {
        "id": "J-2bvFP-TgzS",
        "colab_type": "code",
        "colab": {
          "base_uri": "https://localhost:8080/",
          "height": 238
        },
        "outputId": "82131da5-bbe3-4e15-a0ab-07bbcc2e3d3b"
      },
      "source": [
        "from sklearn.metrics import classification_report\n",
        "from sklearn.metrics import confusion_matrix \n",
        "from sklearn.metrics import accuracy_score \n",
        "target_names = ['class 0', 'class 1']\n",
        "\n",
        "results = confusion_matrix(y_test,Y)\n",
        "print('Confusion Matrix :')\n",
        "print(results) \n",
        "\n",
        "print('Accuracy Score :',accuracy_score(y_test, Y))\n",
        "\n",
        "print(classification_report(y_test, Y, target_names=target_names))"
      ],
      "execution_count": null,
      "outputs": [
        {
          "output_type": "stream",
          "text": [
            "Confusion Matrix :\n",
            "[[90 12]\n",
            " [36 16]]\n",
            "Accuracy Score : 0.6883116883116883\n",
            "              precision    recall  f1-score   support\n",
            "\n",
            "     class 0       0.71      0.88      0.79       102\n",
            "     class 1       0.57      0.31      0.40        52\n",
            "\n",
            "    accuracy                           0.69       154\n",
            "   macro avg       0.64      0.60      0.59       154\n",
            "weighted avg       0.67      0.69      0.66       154\n",
            "\n"
          ],
          "name": "stdout"
        }
      ]
    }
  ]
}